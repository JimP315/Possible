{
 "cells": [
  {
   "cell_type": "code",
   "execution_count": 16,
   "id": "1d65886b-e38d-41ca-9c99-3b497d67fc78",
   "metadata": {},
   "outputs": [],
   "source": [
    "# Initial imports\n",
    "import pandas as pd\n",
    "import numpy as np\n",
    "import datetime as dt\n",
    "import seaborn as sns\n",
    "\n",
    "from pathlib import Path\n",
    "\n",
    "\n"
   ]
  },
  {
   "cell_type": "code",
   "execution_count": 18,
   "id": "3b36c81f-bf69-42ae-a61c-46c61afabc0b",
   "metadata": {},
   "outputs": [
    {
     "ename": "SyntaxError",
     "evalue": "(unicode error) 'unicodeescape' codec can't decode bytes in position 2-3: truncated \\UXXXXXXXX escape (Temp/ipykernel_13640/4224961138.py, line 9)",
     "output_type": "error",
     "traceback": [
      "\u001b[1;36m  File \u001b[1;32m\"C:\\Users\\jimp\\AppData\\Local\\Temp/ipykernel_13640/4224961138.py\"\u001b[1;36m, line \u001b[1;32m9\u001b[0m\n\u001b[1;33m    A2Mreturns_csv = Path(\"C:\\Users\\jimp\\Possible codes\\Possible\\A2Mdaily.csv\")\u001b[0m\n\u001b[1;37m                                                                              ^\u001b[0m\n\u001b[1;31mSyntaxError\u001b[0m\u001b[1;31m:\u001b[0m (unicode error) 'unicodeescape' codec can't decode bytes in position 2-3: truncated \\UXXXXXXXX escape\n"
     ]
    }
   ],
   "source": [
    "%matplotlib inline\n",
    "#Data Cleaning\n",
    "#In this section, you will need to read the CSV files into DataFrames and perform any necessary data cleaning steps. After cleaning, combine all DataFrames into a single DataFrame.\n",
    "\n",
    "#Files:upload all listed entities for Possible SMA's#\n",
    "\n",
    "#All Returns\n",
    "#Read the all portfolio daily returns and clean the data.\n",
    "A2Mreturns_csv = Path(\"C:\\Users\\jimp\\Possible codes\\Possible\\A2Mdaily.csv\")\n",
    "\n",
    "\n",
    "A2Mreturns_csv.head()"
   ]
  },
  {
   "cell_type": "code",
   "execution_count": null,
   "id": "9809ffda-c299-433b-b3a8-ececec94aab3",
   "metadata": {},
   "outputs": [],
   "source": [
    "# Count nulls\n",
    "whale_returns.isnull().sum()"
   ]
  },
  {
   "cell_type": "code",
   "execution_count": null,
   "id": "c99f6126-ec01-43ba-8e53-c7618e307bde",
   "metadata": {},
   "outputs": [],
   "source": [
    "# Drop nulls\n",
    "whale_returns = whale_returns.dropna()\n",
    "whale_returns.head(10)"
   ]
  },
  {
   "cell_type": "code",
   "execution_count": null,
   "id": "9b15eb6d-0d73-4c80-bb9e-9a15222ae78e",
   "metadata": {},
   "outputs": [],
   "source": [
    "# Join Whale Returns, Algorithmic Returns, and the S&P TSX 60 Returns into a single DataFrame with columns for each portfolio's returns.\n",
    "combined_df = pd.concat([algo_returns, whale_returns, sp_tsx_history], axis = \"columns\", join = \"inner\")\n",
    "combined_df.head()"
   ]
  },
  {
   "cell_type": "code",
   "execution_count": null,
   "id": "6aada240-19d8-45dc-bf83-1038efdbe6fe",
   "metadata": {},
   "outputs": [],
   "source": [
    "all_portfolios = pd.concat([algo_returns, whale_returns, sp_tsx_history], axis = \"columns\", join = \"inner\")\n",
    "all_portfolios.head()"
   ]
  },
  {
   "cell_type": "code",
   "execution_count": null,
   "id": "45a84c92-add8-453c-abbf-9b405fb198cb",
   "metadata": {},
   "outputs": [],
   "source": [
    "# Plot daily returns of all portfolios\n",
    "combined_df.plot(subplots=True,figsize=(20, 10), title=\"Daily Returns\",sharey=True)"
   ]
  },
  {
   "cell_type": "code",
   "execution_count": null,
   "id": "7bbb62cc-d49f-4055-8d8d-92ff35633df0",
   "metadata": {},
   "outputs": [],
   "source": [
    "# Calculate cumulative returns of all portfolios\n",
    "# Calculate cumulative returns of all portfolios\n",
    "cumulative_returns = (1 + combined_df).cumprod()"
   ]
  },
  {
   "cell_type": "code",
   "execution_count": null,
   "id": "3b998913-5d2b-419b-846e-c08bc447380a",
   "metadata": {},
   "outputs": [],
   "source": [
    "figure(figsize=(35, 25))\n",
    "# Plot cumulative returns\n",
    "cumulative_returns.plot(figsize=(20, 10), title=\"Cumulative Returns\")"
   ]
  },
  {
   "cell_type": "code",
   "execution_count": null,
   "id": "ffdbc501-a4a3-45b9-885f-ddae3849d8a5",
   "metadata": {},
   "outputs": [],
   "source": [
    "combined_df.plot.box(figsize=(20,8))"
   ]
  },
  {
   "cell_type": "code",
   "execution_count": null,
   "id": "4d0a33ff-0092-498b-a7fe-5dd8a975395c",
   "metadata": {},
   "outputs": [],
   "source": [
    "# Box plot to visually show risk\n",
    "combined_df.plot(subplots=True,figsize=(20, 10), title=\"Daily Returns\",sharey=True)\n",
    "\n",
    "daily1_std = combined_df.std()\n",
    "daily1_std.head()"
   ]
  },
  {
   "cell_type": "code",
   "execution_count": null,
   "id": "0ceb6166-8725-4cb2-9c31-3ed34652154f",
   "metadata": {},
   "outputs": [],
   "source": [
    "# Calculate  the daily standard deviation of S&P TSX 60\n",
    "sp_tsx_history = sp_tsx_history.std()\n",
    "\n",
    "# Determine which portfolios are riskier than the S&P TSX 60\n",
    "sp_tsx_history.head()"
   ]
  },
  {
   "cell_type": "code",
   "execution_count": null,
   "id": "f2f9947e-8163-4bde-809e-3d461317bc45",
   "metadata": {},
   "outputs": [],
   "source": [
    "print(\"All portfolios have greater Std Dev than TSX - this makes rational sense since the TSX is a broad based national index\")"
   ]
  },
  {
   "cell_type": "code",
   "execution_count": null,
   "id": "9c7509b8-3c05-474c-9687-60a16e1ac60d",
   "metadata": {},
   "outputs": [],
   "source": [
    "# Calculate the annualized standard deviation (252 trading days)\n",
    "annualized_std = daily1_std * np.sqrt(252)\n",
    "annualized_std.head()"
   ]
  },
  {
   "cell_type": "code",
   "execution_count": null,
   "id": "e7ea040e-8bfc-4cc2-8c85-f285f38801b3",
   "metadata": {},
   "outputs": [],
   "source": [
    "# Calculate the correlation\n",
    "correlation = combined_df.corr()\n",
    "correlation\n",
    "# Display de correlation matrix"
   ]
  },
  {
   "cell_type": "code",
   "execution_count": null,
   "id": "70fec1fa-8259-40b4-8774-6cf8126653b6",
   "metadata": {},
   "outputs": [],
   "source": [
    "sns.heatmap(correlation, vmin=-1, vmax=1)"
   ]
  },
  {
   "cell_type": "code",
   "execution_count": null,
   "id": "36145a37-a2ef-4aae-a414-616793e6c059",
   "metadata": {},
   "outputs": [],
   "source": [
    "# Annualized Sharpe Ratios\n",
    "#first calculate std deviations \n",
    "\n",
    "daily1_std = combined_df.std()\n",
    "\n",
    "daily1_std.head()"
   ]
  },
  {
   "cell_type": "code",
   "execution_count": null,
   "id": "b283a547-ddf8-4ed6-86ee-3a1123857e5d",
   "metadata": {},
   "outputs": [],
   "source": [
    "sharpe_ratios = (combined_df.mean() * 252) / (daily1_std * np.sqrt(252))\n",
    "sharpe_ratios.head"
   ]
  },
  {
   "cell_type": "code",
   "execution_count": null,
   "id": "7da9cb69-201e-4f73-abcd-9b987b0d3330",
   "metadata": {},
   "outputs": [],
   "source": [
    "# Visualize the sharpe ratios as a bar plot\n",
    "sharpe_ratios.plot.bar(title=\"Sharpe Ratios\")"
   ]
  },
  {
   "cell_type": "code",
   "execution_count": null,
   "id": "02fcad8d-85a6-4552-ac05-79e95dd4aa9b",
   "metadata": {},
   "outputs": [],
   "source": [
    "# Display sample data\n",
    "AMZN_returns = AMZN_returns.pct_change()\n",
    "AMZN_returns.head()"
   ]
  },
  {
   "cell_type": "code",
   "execution_count": null,
   "id": "62d83e8b-804b-4e48-b37e-7d0287050a21",
   "metadata": {},
   "outputs": [],
   "source": [
    "# Set weights\n",
    "weights = [0.25, 0.25, 0.25, 0.25]\n",
    "\n",
    "# Use the `dot` function to sum the product each weight and the corresponding stock daily return.\n",
    "portfolio_returns = custom_returns.dot(weights)\n",
    "# Rename `Close` Column to be specific to this portfolio.\n",
    "portfolio_returns.head()"
   ]
  },
  {
   "cell_type": "code",
   "execution_count": null,
   "id": "0dd2918c-6117-4bcf-b4fc-48dc6f2de9a4",
   "metadata": {},
   "outputs": [],
   "source": []
  },
  {
   "cell_type": "code",
   "execution_count": null,
   "id": "6d6c30dc-f372-4fa3-853e-9e3bd023540b",
   "metadata": {},
   "outputs": [],
   "source": []
  }
 ],
 "metadata": {
  "kernelspec": {
   "display_name": "Python 3 (ipykernel)",
   "language": "python",
   "name": "python3"
  },
  "language_info": {
   "codemirror_mode": {
    "name": "ipython",
    "version": 3
   },
   "file_extension": ".py",
   "mimetype": "text/x-python",
   "name": "python",
   "nbconvert_exporter": "python",
   "pygments_lexer": "ipython3",
   "version": "3.9.7"
  }
 },
 "nbformat": 4,
 "nbformat_minor": 5
}
